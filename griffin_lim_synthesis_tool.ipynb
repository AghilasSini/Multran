{
 "cells": [
  {
   "cell_type": "code",
   "execution_count": 4,
   "metadata": {
    "scrolled": true
   },
   "outputs": [
    {
     "data": {
      "text/plain": [
       "(808, 80)"
      ]
     },
     "execution_count": 4,
     "metadata": {},
     "output_type": "execute_result"
    }
   ],
   "source": [
    "import numpy as np\n",
    "from datasets.audio import *\n",
    "import os\n",
    "from hparams import hparams\n",
    "\n",
    "\n",
    "training_data_path=\"/home/aghilas/servers/tacotran2\"\n",
    "\n",
    "test_sample='FFR0009_LVGP_XXXX_YYYY_ZZZZ_229_0136'\n",
    "\n",
    "\n",
    "n_sample = 0 #Change n_steps here\n",
    "# mel_folder = 'logs-Tacotron/mel-spectrograms' #Or change file path\n",
    "mel_folder = training_data_path+'/training_data/mels/' #Or change file path\n",
    "# mel_file = 'mel-prediction-step-{}.npy'.format(n_sample) #Or file name (for other generated mels)\n",
    "mel_file = 'mel-{}.npy'.format(test_sample) #Or file name (for other generated mels)\n",
    "out_dir = 'wav_out'\n",
    "\n",
    "os.makedirs(out_dir, exist_ok=True)\n",
    "\n",
    "mel_file = os.path.join(mel_folder, mel_file)\n",
    "# mel_file = 'training_data/mels/mel-LJ001-0005.npy'\n",
    "mel_spectro = np.load(mel_file)\n",
    "mel_spectro.shape"
   ]
  },
  {
   "cell_type": "code",
   "execution_count": 5,
   "metadata": {},
   "outputs": [],
   "source": [
    "wav = inv_mel_spectrogram(mel_spectro.T, hparams) \n",
    "#save the wav under test_<folder>_<file>\n",
    "save_wav(wav, os.path.join(out_dir, 'test_mel_{}.wav'.format(mel_file.replace('/', '_').replace('\\\\', '_').replace('.npy', ''))),\n",
    "        sr=hparams.sample_rate)"
   ]
  },
  {
   "cell_type": "code",
   "execution_count": 6,
   "metadata": {},
   "outputs": [],
   "source": [
    "from tacotron.utils.plot import *\n",
    "\n",
    "plot_spectrogram(mel_spectro, path=os.path.join(out_dir, 'test_mel_{}.png'.format(mel_file.replace('/', '_').replace('\\\\', '_').replace('.npy', ''))))"
   ]
  },
  {
   "cell_type": "code",
   "execution_count": 7,
   "metadata": {},
   "outputs": [
    {
     "data": {
      "text/plain": [
       "(808, 513)"
      ]
     },
     "execution_count": 7,
     "metadata": {},
     "output_type": "execute_result"
    }
   ],
   "source": [
    "lin_file = '{}/training_data/linear/linear-{}.npy'.format(training_data_path,test_sample)\n",
    "lin_spectro = np.load(lin_file)\n",
    "lin_spectro.shape"
   ]
  },
  {
   "cell_type": "code",
   "execution_count": 8,
   "metadata": {},
   "outputs": [],
   "source": [
    "wav = inv_linear_spectrogram(lin_spectro.T, hparams)\n",
    "save_wav(wav, os.path.join(out_dir, 'test_linear_{}.wav'.format(mel_file.replace('/', '_').replace('\\\\', '_').replace('.npy', ''))),\n",
    "        sr=hparams.sample_rate)"
   ]
  },
  {
   "cell_type": "code",
   "execution_count": 9,
   "metadata": {},
   "outputs": [],
   "source": [
    "plot_spectrogram(lin_spectro, path=os.path.join(out_dir, 'test_linear_{}.png'.format(mel_file.replace('/', '_').replace('\\\\', '_').replace('.npy', ''))),\n",
    "                auto_aspect=True)"
   ]
  },
  {
   "cell_type": "code",
   "execution_count": null,
   "metadata": {},
   "outputs": [],
   "source": []
  }
 ],
 "metadata": {
  "kernelspec": {
   "display_name": "Python 3",
   "language": "python",
   "name": "python3"
  },
  "language_info": {
   "codemirror_mode": {
    "name": "ipython",
    "version": 3
   },
   "file_extension": ".py",
   "mimetype": "text/x-python",
   "name": "python",
   "nbconvert_exporter": "python",
   "pygments_lexer": "ipython3",
   "version": "3.5.2"
  }
 },
 "nbformat": 4,
 "nbformat_minor": 2
}
